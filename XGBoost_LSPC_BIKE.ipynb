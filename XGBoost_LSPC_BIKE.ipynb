{
  "nbformat": 4,
  "nbformat_minor": 0,
  "metadata": {
    "colab": {
      "name": "XGBoost_LSPC_BIKE.ipynb",
      "provenance": []
    },
    "kernelspec": {
      "name": "python3",
      "display_name": "Python 3"
    }
  },
  "cells": [
    {
      "cell_type": "code",
      "metadata": {
        "id": "1lFRrKDFmdtq",
        "colab_type": "code",
        "colab": {
          "base_uri": "https://localhost:8080/",
          "height": 52
        },
        "outputId": "735a9978-af78-4f41-a3a3-2edd1f518fd5"
      },
      "source": [
        "import pandas as pd\n",
        "from matplotlib import pyplot as plt \n",
        "import seaborn as sns\n",
        "import numpy as np"
      ],
      "execution_count": 1,
      "outputs": [
        {
          "output_type": "stream",
          "text": [
            "/usr/local/lib/python3.6/dist-packages/statsmodels/tools/_testing.py:19: FutureWarning: pandas.util.testing is deprecated. Use the functions in the public API at pandas.testing instead.\n",
            "  import pandas.util.testing as tm\n"
          ],
          "name": "stderr"
        }
      ]
    },
    {
      "cell_type": "code",
      "metadata": {
        "id": "5jbIIWJ40H9Q",
        "colab_type": "code",
        "colab": {
          "base_uri": "https://localhost:8080/",
          "height": 399
        },
        "outputId": "28bf663d-42d4-4686-d62c-a28f418b35ee"
      },
      "source": [
        "lscp_pop_and_bike = pd.read_csv('/content/drive/My Drive/Compas/compas/csv 파일 여기로!/lscp_pop_and_bike_300.csv')\n",
        "lscp_pop_and_bike"
      ],
      "execution_count": 2,
      "outputs": [
        {
          "output_type": "execute_result",
          "data": {
            "text/html": [
              "<div>\n",
              "<style scoped>\n",
              "    .dataframe tbody tr th:only-of-type {\n",
              "        vertical-align: middle;\n",
              "    }\n",
              "\n",
              "    .dataframe tbody tr th {\n",
              "        vertical-align: top;\n",
              "    }\n",
              "\n",
              "    .dataframe thead th {\n",
              "        text-align: right;\n",
              "    }\n",
              "</style>\n",
              "<table border=\"1\" class=\"dataframe\">\n",
              "  <thead>\n",
              "    <tr style=\"text-align: right;\">\n",
              "      <th></th>\n",
              "      <th>좌표</th>\n",
              "      <th>대여수</th>\n",
              "      <th>반납수</th>\n",
              "      <th>총 이용횟수</th>\n",
              "      <th>스테이션</th>\n",
              "    </tr>\n",
              "  </thead>\n",
              "  <tbody>\n",
              "    <tr>\n",
              "      <th>0</th>\n",
              "      <td>(37.59052639593674, 126.88041634904563)</td>\n",
              "      <td>0</td>\n",
              "      <td>0</td>\n",
              "      <td>0</td>\n",
              "      <td>[155]</td>\n",
              "    </tr>\n",
              "    <tr>\n",
              "      <th>1</th>\n",
              "      <td>(37.590546726423185, 126.88154829019997)</td>\n",
              "      <td>0</td>\n",
              "      <td>0</td>\n",
              "      <td>0</td>\n",
              "      <td>[155]</td>\n",
              "    </tr>\n",
              "    <tr>\n",
              "      <th>2</th>\n",
              "      <td>(37.59142713034578, 126.88039079257342)</td>\n",
              "      <td>0</td>\n",
              "      <td>0</td>\n",
              "      <td>0</td>\n",
              "      <td>[155]</td>\n",
              "    </tr>\n",
              "    <tr>\n",
              "      <th>3</th>\n",
              "      <td>(37.59144746148929, 126.88152274735107)</td>\n",
              "      <td>0</td>\n",
              "      <td>0</td>\n",
              "      <td>0</td>\n",
              "      <td>[155]</td>\n",
              "    </tr>\n",
              "    <tr>\n",
              "      <th>4</th>\n",
              "      <td>(37.59146778178655, 126.88265470326604)</td>\n",
              "      <td>0</td>\n",
              "      <td>0</td>\n",
              "      <td>0</td>\n",
              "      <td>[155]</td>\n",
              "    </tr>\n",
              "    <tr>\n",
              "      <th>...</th>\n",
              "      <td>...</td>\n",
              "      <td>...</td>\n",
              "      <td>...</td>\n",
              "      <td>...</td>\n",
              "      <td>...</td>\n",
              "    </tr>\n",
              "    <tr>\n",
              "      <th>3229</th>\n",
              "      <td>(37.70445091519225, 126.75467703178417)</td>\n",
              "      <td>6093</td>\n",
              "      <td>4582</td>\n",
              "      <td>10675</td>\n",
              "      <td>[346]</td>\n",
              "    </tr>\n",
              "    <tr>\n",
              "      <th>3230</th>\n",
              "      <td>(37.704472506609626, 126.75581060819373)</td>\n",
              "      <td>6093</td>\n",
              "      <td>4582</td>\n",
              "      <td>10675</td>\n",
              "      <td>[346]</td>\n",
              "    </tr>\n",
              "    <tr>\n",
              "      <th>3231</th>\n",
              "      <td>(37.70466633943072, 126.7660128502553)</td>\n",
              "      <td>473</td>\n",
              "      <td>406</td>\n",
              "      <td>879</td>\n",
              "      <td>[351]</td>\n",
              "    </tr>\n",
              "    <tr>\n",
              "      <th>3232</th>\n",
              "      <td>(37.70468782197291, 126.76714643873707)</td>\n",
              "      <td>473</td>\n",
              "      <td>406</td>\n",
              "      <td>879</td>\n",
              "      <td>[351]</td>\n",
              "    </tr>\n",
              "    <tr>\n",
              "      <th>3233</th>\n",
              "      <td>(37.70470929362739, 126.76828002842278)</td>\n",
              "      <td>473</td>\n",
              "      <td>406</td>\n",
              "      <td>879</td>\n",
              "      <td>[351]</td>\n",
              "    </tr>\n",
              "  </tbody>\n",
              "</table>\n",
              "<p>3234 rows × 5 columns</p>\n",
              "</div>"
            ],
            "text/plain": [
              "                                            좌표   대여수   반납수  총 이용횟수   스테이션\n",
              "0      (37.59052639593674, 126.88041634904563)     0     0       0  [155]\n",
              "1     (37.590546726423185, 126.88154829019997)     0     0       0  [155]\n",
              "2      (37.59142713034578, 126.88039079257342)     0     0       0  [155]\n",
              "3      (37.59144746148929, 126.88152274735107)     0     0       0  [155]\n",
              "4      (37.59146778178655, 126.88265470326604)     0     0       0  [155]\n",
              "...                                        ...   ...   ...     ...    ...\n",
              "3229   (37.70445091519225, 126.75467703178417)  6093  4582   10675  [346]\n",
              "3230  (37.704472506609626, 126.75581060819373)  6093  4582   10675  [346]\n",
              "3231    (37.70466633943072, 126.7660128502553)   473   406     879  [351]\n",
              "3232   (37.70468782197291, 126.76714643873707)   473   406     879  [351]\n",
              "3233   (37.70470929362739, 126.76828002842278)   473   406     879  [351]\n",
              "\n",
              "[3234 rows x 5 columns]"
            ]
          },
          "metadata": {
            "tags": []
          },
          "execution_count": 2
        }
      ]
    },
    {
      "cell_type": "code",
      "metadata": {
        "id": "mouUYqJFnJLY",
        "colab_type": "code",
        "colab": {
          "base_uri": "https://localhost:8080/",
          "height": 399
        },
        "outputId": "6a89aa26-132a-4aac-dfe8-700cfd2a30e4"
      },
      "source": [
        "lscp_bike_300 = pd.read_csv('/content/drive/My Drive/Compas/compas/csv 파일 여기로!/lscp_300.csv')\n",
        "lscp_bike_300"
      ],
      "execution_count": 3,
      "outputs": [
        {
          "output_type": "execute_result",
          "data": {
            "text/html": [
              "<div>\n",
              "<style scoped>\n",
              "    .dataframe tbody tr th:only-of-type {\n",
              "        vertical-align: middle;\n",
              "    }\n",
              "\n",
              "    .dataframe tbody tr th {\n",
              "        vertical-align: top;\n",
              "    }\n",
              "\n",
              "    .dataframe thead th {\n",
              "        text-align: right;\n",
              "    }\n",
              "</style>\n",
              "<table border=\"1\" class=\"dataframe\">\n",
              "  <thead>\n",
              "    <tr style=\"text-align: right;\">\n",
              "      <th></th>\n",
              "      <th>Unnamed: 0</th>\n",
              "      <th>Bike_Station</th>\n",
              "      <th>Loan_count</th>\n",
              "      <th>Return_count</th>\n",
              "      <th>Population</th>\n",
              "      <th>Sub_pop</th>\n",
              "      <th>Bus_pop</th>\n",
              "      <th>DN_avg</th>\n",
              "      <th>Road_yes</th>\n",
              "      <th>Space_count</th>\n",
              "      <th>Culture_count</th>\n",
              "      <th>Sport_count</th>\n",
              "      <th>KINTEX</th>\n",
              "      <th>Hosu_yes</th>\n",
              "      <th>Park_count</th>\n",
              "    </tr>\n",
              "  </thead>\n",
              "  <tbody>\n",
              "    <tr>\n",
              "      <th>0</th>\n",
              "      <td>0</td>\n",
              "      <td>101</td>\n",
              "      <td>8366</td>\n",
              "      <td>9207</td>\n",
              "      <td>19019</td>\n",
              "      <td>0</td>\n",
              "      <td>142127</td>\n",
              "      <td>17</td>\n",
              "      <td>1</td>\n",
              "      <td>419</td>\n",
              "      <td>0</td>\n",
              "      <td>0</td>\n",
              "      <td>0</td>\n",
              "      <td>0</td>\n",
              "      <td>0</td>\n",
              "    </tr>\n",
              "    <tr>\n",
              "      <th>1</th>\n",
              "      <td>1</td>\n",
              "      <td>103</td>\n",
              "      <td>4535</td>\n",
              "      <td>5121</td>\n",
              "      <td>23225</td>\n",
              "      <td>0</td>\n",
              "      <td>37794</td>\n",
              "      <td>22</td>\n",
              "      <td>1</td>\n",
              "      <td>0</td>\n",
              "      <td>0</td>\n",
              "      <td>0</td>\n",
              "      <td>0</td>\n",
              "      <td>0</td>\n",
              "      <td>1</td>\n",
              "    </tr>\n",
              "    <tr>\n",
              "      <th>2</th>\n",
              "      <td>2</td>\n",
              "      <td>104</td>\n",
              "      <td>13402</td>\n",
              "      <td>9330</td>\n",
              "      <td>30358</td>\n",
              "      <td>0</td>\n",
              "      <td>53381</td>\n",
              "      <td>35</td>\n",
              "      <td>0</td>\n",
              "      <td>0</td>\n",
              "      <td>0</td>\n",
              "      <td>0</td>\n",
              "      <td>0</td>\n",
              "      <td>0</td>\n",
              "      <td>0</td>\n",
              "    </tr>\n",
              "    <tr>\n",
              "      <th>3</th>\n",
              "      <td>3</td>\n",
              "      <td>105</td>\n",
              "      <td>2806</td>\n",
              "      <td>2696</td>\n",
              "      <td>24876</td>\n",
              "      <td>0</td>\n",
              "      <td>136789</td>\n",
              "      <td>23</td>\n",
              "      <td>1</td>\n",
              "      <td>349</td>\n",
              "      <td>0</td>\n",
              "      <td>0</td>\n",
              "      <td>0</td>\n",
              "      <td>0</td>\n",
              "      <td>0</td>\n",
              "    </tr>\n",
              "    <tr>\n",
              "      <th>4</th>\n",
              "      <td>4</td>\n",
              "      <td>106</td>\n",
              "      <td>4444</td>\n",
              "      <td>2357</td>\n",
              "      <td>11356</td>\n",
              "      <td>8607849</td>\n",
              "      <td>257783</td>\n",
              "      <td>26</td>\n",
              "      <td>1</td>\n",
              "      <td>294</td>\n",
              "      <td>0</td>\n",
              "      <td>0</td>\n",
              "      <td>0</td>\n",
              "      <td>0</td>\n",
              "      <td>0</td>\n",
              "    </tr>\n",
              "    <tr>\n",
              "      <th>...</th>\n",
              "      <td>...</td>\n",
              "      <td>...</td>\n",
              "      <td>...</td>\n",
              "      <td>...</td>\n",
              "      <td>...</td>\n",
              "      <td>...</td>\n",
              "      <td>...</td>\n",
              "      <td>...</td>\n",
              "      <td>...</td>\n",
              "      <td>...</td>\n",
              "      <td>...</td>\n",
              "      <td>...</td>\n",
              "      <td>...</td>\n",
              "      <td>...</td>\n",
              "      <td>...</td>\n",
              "    </tr>\n",
              "    <tr>\n",
              "      <th>159</th>\n",
              "      <td>159</td>\n",
              "      <td>350</td>\n",
              "      <td>4190</td>\n",
              "      <td>3662</td>\n",
              "      <td>16480</td>\n",
              "      <td>0</td>\n",
              "      <td>29430</td>\n",
              "      <td>25</td>\n",
              "      <td>0</td>\n",
              "      <td>0</td>\n",
              "      <td>0</td>\n",
              "      <td>0</td>\n",
              "      <td>0</td>\n",
              "      <td>0</td>\n",
              "      <td>0</td>\n",
              "    </tr>\n",
              "    <tr>\n",
              "      <th>160</th>\n",
              "      <td>160</td>\n",
              "      <td>351</td>\n",
              "      <td>473</td>\n",
              "      <td>406</td>\n",
              "      <td>21769</td>\n",
              "      <td>0</td>\n",
              "      <td>25007</td>\n",
              "      <td>38</td>\n",
              "      <td>0</td>\n",
              "      <td>0</td>\n",
              "      <td>0</td>\n",
              "      <td>0</td>\n",
              "      <td>0</td>\n",
              "      <td>0</td>\n",
              "      <td>0</td>\n",
              "    </tr>\n",
              "    <tr>\n",
              "      <th>161</th>\n",
              "      <td>161</td>\n",
              "      <td>352</td>\n",
              "      <td>0</td>\n",
              "      <td>0</td>\n",
              "      <td>16939</td>\n",
              "      <td>0</td>\n",
              "      <td>25959</td>\n",
              "      <td>13</td>\n",
              "      <td>1</td>\n",
              "      <td>282</td>\n",
              "      <td>0</td>\n",
              "      <td>0</td>\n",
              "      <td>0</td>\n",
              "      <td>0</td>\n",
              "      <td>1</td>\n",
              "    </tr>\n",
              "    <tr>\n",
              "      <th>162</th>\n",
              "      <td>162</td>\n",
              "      <td>353</td>\n",
              "      <td>0</td>\n",
              "      <td>0</td>\n",
              "      <td>16907</td>\n",
              "      <td>0</td>\n",
              "      <td>65082</td>\n",
              "      <td>14</td>\n",
              "      <td>1</td>\n",
              "      <td>0</td>\n",
              "      <td>1</td>\n",
              "      <td>0</td>\n",
              "      <td>0</td>\n",
              "      <td>0</td>\n",
              "      <td>0</td>\n",
              "    </tr>\n",
              "    <tr>\n",
              "      <th>163</th>\n",
              "      <td>163</td>\n",
              "      <td>992</td>\n",
              "      <td>952</td>\n",
              "      <td>795</td>\n",
              "      <td>20957</td>\n",
              "      <td>0</td>\n",
              "      <td>265812</td>\n",
              "      <td>15</td>\n",
              "      <td>1</td>\n",
              "      <td>685</td>\n",
              "      <td>0</td>\n",
              "      <td>0</td>\n",
              "      <td>0</td>\n",
              "      <td>0</td>\n",
              "      <td>1</td>\n",
              "    </tr>\n",
              "  </tbody>\n",
              "</table>\n",
              "<p>164 rows × 15 columns</p>\n",
              "</div>"
            ],
            "text/plain": [
              "     Unnamed: 0  Bike_Station  Loan_count  ...  KINTEX  Hosu_yes  Park_count\n",
              "0             0           101        8366  ...       0         0           0\n",
              "1             1           103        4535  ...       0         0           1\n",
              "2             2           104       13402  ...       0         0           0\n",
              "3             3           105        2806  ...       0         0           0\n",
              "4             4           106        4444  ...       0         0           0\n",
              "..          ...           ...         ...  ...     ...       ...         ...\n",
              "159         159           350        4190  ...       0         0           0\n",
              "160         160           351         473  ...       0         0           0\n",
              "161         161           352           0  ...       0         0           1\n",
              "162         162           353           0  ...       0         0           0\n",
              "163         163           992         952  ...       0         0           1\n",
              "\n",
              "[164 rows x 15 columns]"
            ]
          },
          "metadata": {
            "tags": []
          },
          "execution_count": 3
        }
      ]
    },
    {
      "cell_type": "markdown",
      "metadata": {
        "id": "SufQW0Ym1atQ",
        "colab_type": "text"
      },
      "source": [
        "## 전처리"
      ]
    },
    {
      "cell_type": "code",
      "metadata": {
        "id": "TQjFlQBqn4eN",
        "colab_type": "code",
        "colab": {
          "base_uri": "https://localhost:8080/",
          "height": 399
        },
        "outputId": "045257b6-d675-4f8f-9cc2-b24b7d8bb2cb"
      },
      "source": [
        "bike_lscp_300['Total_count'] = bike_lscp_300['Loan_count'] + bike_lscp_300['Return_count']\n",
        "bike_lscp_300"
      ],
      "execution_count": null,
      "outputs": [
        {
          "output_type": "execute_result",
          "data": {
            "text/html": [
              "<div>\n",
              "<style scoped>\n",
              "    .dataframe tbody tr th:only-of-type {\n",
              "        vertical-align: middle;\n",
              "    }\n",
              "\n",
              "    .dataframe tbody tr th {\n",
              "        vertical-align: top;\n",
              "    }\n",
              "\n",
              "    .dataframe thead th {\n",
              "        text-align: right;\n",
              "    }\n",
              "</style>\n",
              "<table border=\"1\" class=\"dataframe\">\n",
              "  <thead>\n",
              "    <tr style=\"text-align: right;\">\n",
              "      <th></th>\n",
              "      <th>Unnamed: 0</th>\n",
              "      <th>Bike_Station</th>\n",
              "      <th>Loan_count</th>\n",
              "      <th>Return_count</th>\n",
              "      <th>Population</th>\n",
              "      <th>Sub_pop</th>\n",
              "      <th>Bus_pop</th>\n",
              "      <th>DN_avg</th>\n",
              "      <th>Road_yes</th>\n",
              "      <th>Space_count</th>\n",
              "      <th>Culture_count</th>\n",
              "      <th>Sport_count</th>\n",
              "      <th>KINTEX</th>\n",
              "      <th>Hosu_yes</th>\n",
              "      <th>Park_count</th>\n",
              "      <th>Total_count</th>\n",
              "    </tr>\n",
              "  </thead>\n",
              "  <tbody>\n",
              "    <tr>\n",
              "      <th>0</th>\n",
              "      <td>0</td>\n",
              "      <td>101</td>\n",
              "      <td>8366</td>\n",
              "      <td>9207</td>\n",
              "      <td>19019</td>\n",
              "      <td>0</td>\n",
              "      <td>142127</td>\n",
              "      <td>17</td>\n",
              "      <td>1</td>\n",
              "      <td>419</td>\n",
              "      <td>0</td>\n",
              "      <td>0</td>\n",
              "      <td>0</td>\n",
              "      <td>0</td>\n",
              "      <td>0</td>\n",
              "      <td>17573</td>\n",
              "    </tr>\n",
              "    <tr>\n",
              "      <th>1</th>\n",
              "      <td>1</td>\n",
              "      <td>103</td>\n",
              "      <td>4535</td>\n",
              "      <td>5121</td>\n",
              "      <td>23225</td>\n",
              "      <td>0</td>\n",
              "      <td>37794</td>\n",
              "      <td>22</td>\n",
              "      <td>1</td>\n",
              "      <td>0</td>\n",
              "      <td>0</td>\n",
              "      <td>0</td>\n",
              "      <td>0</td>\n",
              "      <td>0</td>\n",
              "      <td>1</td>\n",
              "      <td>9656</td>\n",
              "    </tr>\n",
              "    <tr>\n",
              "      <th>2</th>\n",
              "      <td>2</td>\n",
              "      <td>104</td>\n",
              "      <td>13402</td>\n",
              "      <td>9330</td>\n",
              "      <td>30358</td>\n",
              "      <td>0</td>\n",
              "      <td>53381</td>\n",
              "      <td>35</td>\n",
              "      <td>0</td>\n",
              "      <td>0</td>\n",
              "      <td>0</td>\n",
              "      <td>0</td>\n",
              "      <td>0</td>\n",
              "      <td>0</td>\n",
              "      <td>0</td>\n",
              "      <td>22732</td>\n",
              "    </tr>\n",
              "    <tr>\n",
              "      <th>3</th>\n",
              "      <td>3</td>\n",
              "      <td>105</td>\n",
              "      <td>2806</td>\n",
              "      <td>2696</td>\n",
              "      <td>24876</td>\n",
              "      <td>0</td>\n",
              "      <td>136789</td>\n",
              "      <td>23</td>\n",
              "      <td>1</td>\n",
              "      <td>349</td>\n",
              "      <td>0</td>\n",
              "      <td>0</td>\n",
              "      <td>0</td>\n",
              "      <td>0</td>\n",
              "      <td>0</td>\n",
              "      <td>5502</td>\n",
              "    </tr>\n",
              "    <tr>\n",
              "      <th>4</th>\n",
              "      <td>4</td>\n",
              "      <td>106</td>\n",
              "      <td>4444</td>\n",
              "      <td>2357</td>\n",
              "      <td>11356</td>\n",
              "      <td>8607849</td>\n",
              "      <td>257783</td>\n",
              "      <td>26</td>\n",
              "      <td>1</td>\n",
              "      <td>294</td>\n",
              "      <td>0</td>\n",
              "      <td>0</td>\n",
              "      <td>0</td>\n",
              "      <td>0</td>\n",
              "      <td>0</td>\n",
              "      <td>6801</td>\n",
              "    </tr>\n",
              "    <tr>\n",
              "      <th>...</th>\n",
              "      <td>...</td>\n",
              "      <td>...</td>\n",
              "      <td>...</td>\n",
              "      <td>...</td>\n",
              "      <td>...</td>\n",
              "      <td>...</td>\n",
              "      <td>...</td>\n",
              "      <td>...</td>\n",
              "      <td>...</td>\n",
              "      <td>...</td>\n",
              "      <td>...</td>\n",
              "      <td>...</td>\n",
              "      <td>...</td>\n",
              "      <td>...</td>\n",
              "      <td>...</td>\n",
              "      <td>...</td>\n",
              "    </tr>\n",
              "    <tr>\n",
              "      <th>159</th>\n",
              "      <td>159</td>\n",
              "      <td>350</td>\n",
              "      <td>4190</td>\n",
              "      <td>3662</td>\n",
              "      <td>16480</td>\n",
              "      <td>0</td>\n",
              "      <td>29430</td>\n",
              "      <td>25</td>\n",
              "      <td>0</td>\n",
              "      <td>0</td>\n",
              "      <td>0</td>\n",
              "      <td>0</td>\n",
              "      <td>0</td>\n",
              "      <td>0</td>\n",
              "      <td>0</td>\n",
              "      <td>7852</td>\n",
              "    </tr>\n",
              "    <tr>\n",
              "      <th>160</th>\n",
              "      <td>160</td>\n",
              "      <td>351</td>\n",
              "      <td>473</td>\n",
              "      <td>406</td>\n",
              "      <td>21769</td>\n",
              "      <td>0</td>\n",
              "      <td>25007</td>\n",
              "      <td>38</td>\n",
              "      <td>0</td>\n",
              "      <td>0</td>\n",
              "      <td>0</td>\n",
              "      <td>0</td>\n",
              "      <td>0</td>\n",
              "      <td>0</td>\n",
              "      <td>0</td>\n",
              "      <td>879</td>\n",
              "    </tr>\n",
              "    <tr>\n",
              "      <th>161</th>\n",
              "      <td>161</td>\n",
              "      <td>352</td>\n",
              "      <td>0</td>\n",
              "      <td>0</td>\n",
              "      <td>16939</td>\n",
              "      <td>0</td>\n",
              "      <td>25959</td>\n",
              "      <td>13</td>\n",
              "      <td>1</td>\n",
              "      <td>282</td>\n",
              "      <td>0</td>\n",
              "      <td>0</td>\n",
              "      <td>0</td>\n",
              "      <td>0</td>\n",
              "      <td>1</td>\n",
              "      <td>0</td>\n",
              "    </tr>\n",
              "    <tr>\n",
              "      <th>162</th>\n",
              "      <td>162</td>\n",
              "      <td>353</td>\n",
              "      <td>0</td>\n",
              "      <td>0</td>\n",
              "      <td>16907</td>\n",
              "      <td>0</td>\n",
              "      <td>65082</td>\n",
              "      <td>14</td>\n",
              "      <td>1</td>\n",
              "      <td>0</td>\n",
              "      <td>1</td>\n",
              "      <td>0</td>\n",
              "      <td>0</td>\n",
              "      <td>0</td>\n",
              "      <td>0</td>\n",
              "      <td>0</td>\n",
              "    </tr>\n",
              "    <tr>\n",
              "      <th>163</th>\n",
              "      <td>163</td>\n",
              "      <td>992</td>\n",
              "      <td>952</td>\n",
              "      <td>795</td>\n",
              "      <td>20957</td>\n",
              "      <td>0</td>\n",
              "      <td>265812</td>\n",
              "      <td>15</td>\n",
              "      <td>1</td>\n",
              "      <td>685</td>\n",
              "      <td>0</td>\n",
              "      <td>0</td>\n",
              "      <td>0</td>\n",
              "      <td>0</td>\n",
              "      <td>1</td>\n",
              "      <td>1747</td>\n",
              "    </tr>\n",
              "  </tbody>\n",
              "</table>\n",
              "<p>164 rows × 16 columns</p>\n",
              "</div>"
            ],
            "text/plain": [
              "     Unnamed: 0  Bike_Station  Loan_count  ...  Hosu_yes  Park_count  Total_count\n",
              "0             0           101        8366  ...         0           0        17573\n",
              "1             1           103        4535  ...         0           1         9656\n",
              "2             2           104       13402  ...         0           0        22732\n",
              "3             3           105        2806  ...         0           0         5502\n",
              "4             4           106        4444  ...         0           0         6801\n",
              "..          ...           ...         ...  ...       ...         ...          ...\n",
              "159         159           350        4190  ...         0           0         7852\n",
              "160         160           351         473  ...         0           0          879\n",
              "161         161           352           0  ...         0           1            0\n",
              "162         162           353           0  ...         0           0            0\n",
              "163         163           992         952  ...         0           1         1747\n",
              "\n",
              "[164 rows x 16 columns]"
            ]
          },
          "metadata": {
            "tags": []
          },
          "execution_count": 6
        }
      ]
    },
    {
      "cell_type": "code",
      "metadata": {
        "id": "9V1zEtxPnplS",
        "colab_type": "code",
        "colab": {
          "base_uri": "https://localhost:8080/",
          "height": 35
        },
        "outputId": "12f05299-9810-40ca-aae4-c6ddd8db0b6c"
      },
      "source": [
        "y = bike_lscp_300[['Total_count']]\n",
        "X = bike_lscp_300[['Bike_Station',\n",
        "       'Population', 'Sub_pop', 'Bus_pop', 'DN_avg', 'Road_yes', 'Space_count',\n",
        "       'Culture_count', 'Sport_count', 'KINTEX', 'Hosu_yes', 'Park_count']]\n",
        "\n",
        "X.shape, y.shape"
      ],
      "execution_count": null,
      "outputs": [
        {
          "output_type": "execute_result",
          "data": {
            "text/plain": [
              "((164, 12), (164, 1))"
            ]
          },
          "metadata": {
            "tags": []
          },
          "execution_count": 9
        }
      ]
    },
    {
      "cell_type": "code",
      "metadata": {
        "id": "n4zAM6xSnpQJ",
        "colab_type": "code",
        "colab": {
          "base_uri": "https://localhost:8080/",
          "height": 35
        },
        "outputId": "335d08f1-98cb-4a4b-e7f8-42740369612a"
      },
      "source": [
        "from sklearn.model_selection import train_test_split\n",
        "X_train, X_test, y_train, y_test = train_test_split(X, y, random_state = 42, test_size = 0.1)\n",
        "\n",
        "X_train.shape, X_test.shape, y_train.shape"
      ],
      "execution_count": null,
      "outputs": [
        {
          "output_type": "execute_result",
          "data": {
            "text/plain": [
              "((147, 12), (17, 12), (147, 1))"
            ]
          },
          "metadata": {
            "tags": []
          },
          "execution_count": 12
        }
      ]
    },
    {
      "cell_type": "markdown",
      "metadata": {
        "id": "pZ6zzfUooa6E",
        "colab_type": "text"
      },
      "source": [
        "## 수치형 스케일링"
      ]
    },
    {
      "cell_type": "code",
      "metadata": {
        "id": "awQwn7rIpdpl",
        "colab_type": "code",
        "colab": {}
      },
      "source": [
        "numerical_columns = [ 'Population', 'Sub_pop', 'Bus_pop', 'DN_avg', 'Space_count',\n",
        "       'Culture_count', 'Sport_count', 'Park_count']"
      ],
      "execution_count": null,
      "outputs": []
    },
    {
      "cell_type": "code",
      "metadata": {
        "id": "NPDPqGktoarD",
        "colab_type": "code",
        "colab": {}
      },
      "source": [
        "from sklearn.preprocessing import StandardScaler\n",
        "std_scaler = StandardScaler()\n"
      ],
      "execution_count": null,
      "outputs": []
    },
    {
      "cell_type": "code",
      "metadata": {
        "id": "OlUSRCEMoajO",
        "colab_type": "code",
        "colab": {
          "base_uri": "https://localhost:8080/",
          "height": 35
        },
        "outputId": "b7e72928-6c3d-4f13-9ce1-ca9b0690e70e"
      },
      "source": [
        "std_scaler.fit(X_train[numerical_columns])"
      ],
      "execution_count": null,
      "outputs": [
        {
          "output_type": "execute_result",
          "data": {
            "text/plain": [
              "StandardScaler(copy=True, with_mean=True, with_std=True)"
            ]
          },
          "metadata": {
            "tags": []
          },
          "execution_count": 19
        }
      ]
    },
    {
      "cell_type": "code",
      "metadata": {
        "id": "kmRIz0uboaby",
        "colab_type": "code",
        "colab": {
          "base_uri": "https://localhost:8080/",
          "height": 621
        },
        "outputId": "ce7162c0-ca41-483e-851d-881bb00c5568"
      },
      "source": [
        "std_scaler.transform(X_train[numerical_columns])\n",
        "std_scaler.transform(X_test[numerical_columns])"
      ],
      "execution_count": null,
      "outputs": [
        {
          "output_type": "execute_result",
          "data": {
            "text/plain": [
              "array([[ 0.50513831, -0.4383613 , -0.50976962, -0.17508014, -0.54505554,\n",
              "        -0.31008684, -0.32372381, -0.8804711 ],\n",
              "       [-0.47546195, -0.4383613 , -0.55073006, -1.26767931, -0.54505554,\n",
              "        -0.31008684, -0.32372381,  0.54182837],\n",
              "       [ 0.03708389, -0.4383613 , -0.44097603,  0.06771968, -0.41893294,\n",
              "        -0.31008684,  1.14050387,  0.54182837],\n",
              "       [-1.78599049, -0.4383613 , -0.61977291,  0.79611912, -0.54505554,\n",
              "        -0.31008684, -0.32372381,  0.54182837],\n",
              "       [ 0.3685628 , -0.4383613 , -0.26519509,  1.52451857, -0.54505554,\n",
              "        -0.31008684, -0.32372381, -0.8804711 ],\n",
              "       [ 0.9092587 , -0.4383613 , -0.49336883, -0.90347959, -0.54505554,\n",
              "        -0.31008684,  0.40839003, -0.8804711 ],\n",
              "       [-0.37073418, -0.4383613 , -0.51997234,  1.03891894, -0.54505554,\n",
              "        -0.31008684,  1.87261771,  0.54182837],\n",
              "       [-0.16032439, -0.4383613 , -0.17121872,  2.49571784, -0.54505554,\n",
              "        -0.31008684, -0.32372381, -0.8804711 ],\n",
              "       [ 0.16232781, -0.4383613 , -0.12264778,  2.85991756, -0.02543043,\n",
              "        -0.31008684,  2.60473155,  0.54182837],\n",
              "       [ 2.14953136, -0.4383613 , -0.4030897 ,  0.79611912, -0.34830429,\n",
              "        -0.31008684,  0.40839003, -0.8804711 ],\n",
              "       [ 1.9466362 , -0.4383613 , -0.11932442,  0.79611912, -0.54505554,\n",
              "        -0.31008684, -0.32372381,  0.54182837],\n",
              "       [-0.59629252,  1.35882914,  0.60288373, -1.0248795 , -0.54505554,\n",
              "        -0.31008684, -0.32372381,  0.54182837],\n",
              "       [-0.39900352, -0.4383613 , -0.4645719 , -1.0248795 , -0.54505554,\n",
              "        -0.31008684, -0.32372381, -0.8804711 ],\n",
              "       [-0.0866094 , -0.4383613 , -0.39807142, -0.66067977, -0.41893294,\n",
              "        -0.31008684, -0.32372381, -0.8804711 ],\n",
              "       [-0.52818368,  0.32354667, -0.33473644, -1.1462794 , -0.54505554,\n",
              "        -0.31008684, -0.32372381, -0.8804711 ],\n",
              "       [ 1.56661036, -0.4383613 , -0.34077666, -0.53927986, -0.12128361,\n",
              "        -0.31008684,  1.14050387, -0.8804711 ],\n",
              "       [ 1.38983751, -0.4383613 , -0.1640901 ,  0.18911958, -0.54505554,\n",
              "        -0.31008684,  0.40839003, -0.8804711 ]])"
            ]
          },
          "metadata": {
            "tags": []
          },
          "execution_count": 20
        }
      ]
    },
    {
      "cell_type": "markdown",
      "metadata": {
        "id": "GtAPQi6ioaOJ",
        "colab_type": "text"
      },
      "source": [
        "## 모델링 "
      ]
    },
    {
      "cell_type": "code",
      "metadata": {
        "id": "xMmEjNisnJb-",
        "colab_type": "code",
        "colab": {
          "base_uri": "https://localhost:8080/",
          "height": 70
        },
        "outputId": "3cc3537d-bc0c-404c-cd2a-92c15bf6ad99"
      },
      "source": [
        "!pip install xgboost"
      ],
      "execution_count": null,
      "outputs": [
        {
          "output_type": "stream",
          "text": [
            "Requirement already satisfied: xgboost in /usr/local/lib/python3.6/dist-packages (0.90)\n",
            "Requirement already satisfied: scipy in /usr/local/lib/python3.6/dist-packages (from xgboost) (1.4.1)\n",
            "Requirement already satisfied: numpy in /usr/local/lib/python3.6/dist-packages (from xgboost) (1.18.5)\n"
          ],
          "name": "stdout"
        }
      ]
    },
    {
      "cell_type": "code",
      "metadata": {
        "id": "pKswVkZ7nSe2",
        "colab_type": "code",
        "colab": {}
      },
      "source": [
        "import xgboost as xgb\n",
        "\n",
        "xgb_model = xgb.XGBRegressor(n_estimators=500, \n",
        "                              learning_rate = 0.1, \n",
        "                              max_depth = 3, objective = 'reg:squarederror').fit(X_train, y_train)"
      ],
      "execution_count": null,
      "outputs": []
    },
    {
      "cell_type": "code",
      "metadata": {
        "id": "YOI4GWU_qFKb",
        "colab_type": "code",
        "colab": {
          "base_uri": "https://localhost:8080/",
          "height": 141
        },
        "outputId": "7faf831c-9a1a-4dc6-caa7-08b867682989"
      },
      "source": [
        "xgb_model"
      ],
      "execution_count": null,
      "outputs": [
        {
          "output_type": "execute_result",
          "data": {
            "text/plain": [
              "XGBRegressor(base_score=0.5, booster='gbtree', colsample_bylevel=1,\n",
              "             colsample_bynode=1, colsample_bytree=1, gamma=0,\n",
              "             importance_type='gain', learning_rate=0.1, max_delta_step=0,\n",
              "             max_depth=3, min_child_weight=1, missing=None, n_estimators=500,\n",
              "             n_jobs=1, nthread=None, objective='reg:squarederror',\n",
              "             random_state=0, reg_alpha=0, reg_lambda=1, scale_pos_weight=1,\n",
              "             seed=None, silent=None, subsample=1, verbosity=1)"
            ]
          },
          "metadata": {
            "tags": []
          },
          "execution_count": 23
        }
      ]
    },
    {
      "cell_type": "code",
      "metadata": {
        "id": "fLXYkW0CqY-9",
        "colab_type": "code",
        "colab": {
          "base_uri": "https://localhost:8080/",
          "height": 52
        },
        "outputId": "1c871d46-29ae-483b-a308-0eeeecae912f"
      },
      "source": [
        "print('train score : {}'.format(xgb_model.score(X_train, y_train)))\n",
        "print('test score : {}'.format(xgb_model.score(X_test, y_test)))"
      ],
      "execution_count": null,
      "outputs": [
        {
          "output_type": "stream",
          "text": [
            "train score : 0.9995918763878865\n",
            "test score : 0.7383246619748853\n"
          ],
          "name": "stdout"
        }
      ]
    },
    {
      "cell_type": "code",
      "metadata": {
        "id": "DoichdMdqldl",
        "colab_type": "code",
        "colab": {
          "base_uri": "https://localhost:8080/",
          "height": 35
        },
        "outputId": "9264670d-724b-40fd-8122-10132aec3e92"
      },
      "source": [
        "np.argsort(xgb_model.feature_importances_)"
      ],
      "execution_count": null,
      "outputs": [
        {
          "output_type": "execute_result",
          "data": {
            "text/plain": [
              "array([ 9,  8,  6,  4,  1,  7,  3, 11,  0,  5,  2, 10])"
            ]
          },
          "metadata": {
            "tags": []
          },
          "execution_count": 27
        }
      ]
    },
    {
      "cell_type": "code",
      "metadata": {
        "id": "X0l9craHqcRC",
        "colab_type": "code",
        "colab": {
          "base_uri": "https://localhost:8080/",
          "height": 230
        },
        "outputId": "af1f6483-0a05-4a8f-cb40-2fecf321f20e"
      },
      "source": [
        "feature_important = [ X_train.columns[i] for i in np.argsort(xgb_model.feature_importances_)[::-1]]\n",
        "feature_important"
      ],
      "execution_count": null,
      "outputs": [
        {
          "output_type": "execute_result",
          "data": {
            "text/plain": [
              "['Hosu_yes',\n",
              " 'Sub_pop',\n",
              " 'Road_yes',\n",
              " 'Bike_Station',\n",
              " 'Park_count',\n",
              " 'Bus_pop',\n",
              " 'Culture_count',\n",
              " 'Population',\n",
              " 'DN_avg',\n",
              " 'Space_count',\n",
              " 'Sport_count',\n",
              " 'KINTEX']"
            ]
          },
          "metadata": {
            "tags": []
          },
          "execution_count": 31
        }
      ]
    },
    {
      "cell_type": "code",
      "metadata": {
        "id": "5HfPFl9Nqhu7",
        "colab_type": "code",
        "colab": {}
      },
      "source": [
        ""
      ],
      "execution_count": null,
      "outputs": []
    }
  ]
}